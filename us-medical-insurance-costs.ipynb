{
 "cells": [
  {
   "cell_type": "markdown",
   "metadata": {},
   "source": [
    "# U.S. Medical Insurance Costs"
   ]
  },
  {
   "cell_type": "code",
   "execution_count": 82,
   "metadata": {},
   "outputs": [],
   "source": [
    "import csv "
   ]
  },
  {
   "cell_type": "code",
   "execution_count": 84,
   "metadata": {},
   "outputs": [],
   "source": [
    "# Getting a list of the CSV file with each element divided by a comma\n",
    "# with open ('insurance.csv', newline='') as csvfile:\n",
    "#     insurance_data = csv.reader(csvfile, delimiter = '\\n')\n",
    "#     for row in insurance_data: \n",
    "# #         print(', '.join(row))"
   ]
  },
  {
   "cell_type": "code",
   "execution_count": 85,
   "metadata": {},
   "outputs": [],
   "source": [
    "# Creating a dictionary out of the CSV file\n",
    "# with open ('insurance.csv', newline='') as csvfile:\n",
    "#     insurance_reader = csv.DictReader(csvfile)\n",
    "#     for row in insurance_reader:\n",
    "# #         print(row['age'], row['sex'], row['bmi'], row['children'], row['smoker'], row['region'], row['charges'])\n",
    "# #         print(row)"
   ]
  },
  {
   "cell_type": "code",
   "execution_count": 86,
   "metadata": {},
   "outputs": [
    {
     "name": "stdout",
     "output_type": "stream",
     "text": [
      "39\n"
     ]
    }
   ],
   "source": [
    "# getting the average age by using the dictionary form of the csv\n",
    "with open ('insurance.csv', newline='') as csvfile:\n",
    "    insurance_reader = csv.DictReader(csvfile)\n",
    "    age_list = []\n",
    "    for row in insurance_reader: \n",
    "        age = row.get('age')\n",
    "        age_list.append(int(age))\n",
    "#     print(age_list)\n",
    "    age_avg = sum(age_list) / len(age_list)\n",
    "    print(int(age_avg))\n"
   ]
  },
  {
   "cell_type": "code",
   "execution_count": 87,
   "metadata": {},
   "outputs": [
    {
     "name": "stdout",
     "output_type": "stream",
     "text": [
      "The most common region in this file is the southeast with 364 occurrences\n",
      "This region represents 27% of the data.\n"
     ]
    }
   ],
   "source": [
    "# Finding the most common region in the dataset and what % of the population it represents \n",
    "from collections import Counter # new library\n",
    "with open ('insurance.csv', newline='') as csvfile:\n",
    "    insurance_reader = csv.DictReader(csvfile)\n",
    "    region_list = []\n",
    "    for row in insurance_reader: \n",
    "        region = row.get('region')\n",
    "        region_list.append(region)\n",
    "#     print(region_list)\n",
    "    region_count = Counter(region_list)\n",
    "    most_common_region = region_count.most_common(1)\n",
    "    region_percent = int(most_common_region[0][1] / len(region_list)*100) \n",
    "#     print (most_common_region[0][1], len(region_list))\n",
    "    print(\"The most common region in this file is the \" + most_common_region[0][0] + \" with \" + str(most_common_region[0][1]) + \" occurrences\")\n",
    "    print (\"This region represents \" + str(region_percent) + \"% of the data.\")\n"
   ]
  },
  {
   "cell_type": "code",
   "execution_count": 88,
   "metadata": {},
   "outputs": [
    {
     "name": "stdout",
     "output_type": "stream",
     "text": [
      "The average charge for a smoker is $32050\n",
      "The average charge for a nonsmoker is $8434\n",
      "The difference between the averages is $23616\n"
     ]
    }
   ],
   "source": [
    "# Finding the average charges for smokers vs. non-smokers\n",
    "with open ('insurance.csv', newline='') as csvfile:\n",
    "    smoker_charge_list = []\n",
    "    nonsmoker_charge_list = []\n",
    "    insurance_reader = csv.DictReader(csvfile)\n",
    "    for row in insurance_reader:\n",
    "        smoker_status = row.get('smoker')\n",
    "        charge = row.get('charges')\n",
    "        if smoker_status == 'yes':\n",
    "            smoker_charge_list.append(float(charge))\n",
    "        else: \n",
    "            nonsmoker_charge_list.append(float(charge))\n",
    "#     print(smoker_charge_list)\n",
    "#     print(nonsmoker_charge_list)\n",
    "    smoker_avg = int(sum(smoker_charge_list) / len(smoker_charge_list))\n",
    "    nonsmoker_avg = int(sum(nonsmoker_charge_list) / len(nonsmoker_charge_list))\n",
    "    print (\"The average charge for a smoker is $\" + str(smoker_avg))\n",
    "    print(\"The average charge for a nonsmoker is $\" + str(nonsmoker_avg))\n",
    "    print (\"The difference between the averages is $\" + str(smoker_avg-nonsmoker_avg))"
   ]
  },
  {
   "cell_type": "code",
   "execution_count": 89,
   "metadata": {},
   "outputs": [
    {
     "name": "stdout",
     "output_type": "stream",
     "text": [
      "The average age of people with at least one child is 39\n"
     ]
    }
   ],
   "source": [
    "# Finding average age of population that have at least one child\n",
    "with open ('insurance.csv', newline='') as csvfile:\n",
    "    insurance_reader = csv.DictReader(csvfile)\n",
    "    more_than_one_ages = []\n",
    "    for row in insurance_reader:\n",
    "        kid_status = int(row.get('children'))\n",
    "        age = int(row.get('age'))\n",
    "        if kid_status >= 1: \n",
    "            more_than_one_ages.append(age)\n",
    "        else: \n",
    "            continue \n",
    "    avg_with_kid = int(sum(more_than_one_ages)/len(more_than_one_ages))\n",
    "    print (\"The average age of people with at least one child is \" + str(avg_with_kid))"
   ]
  },
  {
   "cell_type": "code",
   "execution_count": 90,
   "metadata": {},
   "outputs": [
    {
     "name": "stdout",
     "output_type": "stream",
     "text": [
      "The average charge for women is $12569\n",
      "The average charge for men is $13956\n",
      "Gender accounts for a $1387 difference in charges\n"
     ]
    }
   ],
   "source": [
    "with open ('insurance.csv', newline='') as csvfile:\n",
    "    insurance_reader = csv.DictReader(csvfile)\n",
    "    cost_for_women = []\n",
    "    cost_for_men = []\n",
    "    for row in insurance_reader:\n",
    "        gender = row.get('sex')\n",
    "        charge = float(row.get('charges'))\n",
    "        if gender == \"female\":\n",
    "            cost_for_women.append(charge)\n",
    "        else: \n",
    "            cost_for_men.append(charge)\n",
    "    avg_women = int(sum(cost_for_women) / len(cost_for_women))\n",
    "    avg_men = int(sum(cost_for_men) / len(cost_for_men))\n",
    "    print (\"The average charge for women is $\" + str(avg_women))\n",
    "    print (\"The average charge for men is $\" + str(avg_men))\n",
    "    print (\"Gender accounts for a $\" + str(avg_men-avg_women) + \" difference in charges\")"
   ]
  },
  {
   "cell_type": "code",
   "execution_count": 91,
   "metadata": {},
   "outputs": [
    {
     "name": "stdout",
     "output_type": "stream",
     "text": [
      "{'18 to 25': 9087, '26 to 35': 10495, '36 to 45': 13493, '46 to 55': 15986, '56 to 65': 18795}\n"
     ]
    }
   ],
   "source": [
    "# Create a dictionary that splits up the population by age and returns the average charge for that age bracket\n",
    "bracket_1 = \"18 to 25\"\n",
    "bracket_2 = \"26 to 35\"\n",
    "bracket_3 = \"36 to 45\"\n",
    "bracket_4 = \"46 to 55\"\n",
    "bracket_5 = \"56 to 65\"\n",
    "\n",
    "with open ('insurance.csv', newline='') as csvfile:\n",
    "    insurance_reader = csv.DictReader(csvfile)\n",
    "    bracket_1_cost = []\n",
    "    bracket_2_cost = []\n",
    "    bracket_3_cost = []\n",
    "    bracket_4_cost = []\n",
    "    bracket_5_cost = []\n",
    "    for row in insurance_reader:\n",
    "        age = int(row.get('age'))\n",
    "        charge = float(row.get('charges'))\n",
    "        if age <= 25: \n",
    "            bracket_1_cost.append(charge)\n",
    "        elif age <= 35:\n",
    "            bracket_2_cost.append(charge)\n",
    "        elif age <= 45: \n",
    "            bracket_3_cost.append(charge) \n",
    "        elif age <= 55: \n",
    "            bracket_4_cost.append(charge)\n",
    "        else: \n",
    "            bracket_5_cost.append(charge)\n",
    "    bracket_1_avg = int(sum(bracket_1_cost) / len(bracket_1_cost))\n",
    "    bracket_2_avg = int(sum(bracket_2_cost) / len(bracket_2_cost))\n",
    "    bracket_3_avg = int(sum(bracket_3_cost) / len(bracket_3_cost))\n",
    "    bracket_4_avg = int(sum(bracket_4_cost) / len(bracket_4_cost))\n",
    "    bracket_5_avg = int(sum(bracket_5_cost) / len(bracket_5_cost))\n",
    "    \n",
    "    age_brackets = [bracket_1, bracket_2, bracket_3, bracket_4, bracket_5]\n",
    "    bracket_avg = [bracket_1_avg,bracket_2_avg,bracket_3_avg,bracket_4_avg,bracket_5_avg]\n",
    "    final_dict = dict(zip(age_brackets, bracket_avg))\n",
    "    print(final_dict)\n"
   ]
  },
  {
   "cell_type": "code",
   "execution_count": null,
   "metadata": {},
   "outputs": [],
   "source": []
  }
 ],
 "metadata": {
  "kernelspec": {
   "display_name": "Python 3",
   "language": "python",
   "name": "python3"
  },
  "language_info": {
   "codemirror_mode": {
    "name": "ipython",
    "version": 3
   },
   "file_extension": ".py",
   "mimetype": "text/x-python",
   "name": "python",
   "nbconvert_exporter": "python",
   "pygments_lexer": "ipython3",
   "version": "3.8.5"
  }
 },
 "nbformat": 4,
 "nbformat_minor": 4
}
